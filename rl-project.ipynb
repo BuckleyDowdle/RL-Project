{
 "cells": [
  {
   "cell_type": "code",
   "execution_count": 1,
   "metadata": {},
   "outputs": [],
   "source": [
    "import gym\n",
    "from stable_baselines3.ppo import CnnPolicy\n",
    "from stable_baselines3 import PPO\n",
    "from stable_baselines3.common.evaluation import evaluate_policy\n",
    "from pettingzoo.butterfly import cooperative_pong_v2\n",
    "import supersuit as ss\n",
    "import matplotlib\n",
    "import numpy as np\n",
    "\n",
    "from stable_baselines3.common.monitor import Monitor\n",
    "\n",
    "from stable_baselines3.common.results_plotter import load_results, ts2xy\n",
    "from stable_baselines3.common import results_plotter\n",
    "from stable_baselines3.common.callbacks import BaseCallback"
   ]
  },
  {
   "cell_type": "code",
   "execution_count": 65,
   "metadata": {},
   "outputs": [],
   "source": [
    "env = cooperative_pong_v2.parallel_env(ball_speed=9, left_paddle_speed=12, right_paddle_speed=12, cake_paddle=False, max_cycles=2000, bounce_randomness=False) #create env\n",
    "agents= ['paddle_0', 'paddle_1'] #name agents\n",
    "env = ss.color_reduction_v0(env, mode='B') #convert to grayscale for less computation\n",
    "env = ss.resize_v0(env, x_size=84, y_size=84) #resive\n",
    "env = ss.frame_stack_v1(env, 4)#stack 4 frames together to see velocity/direction\n",
    "env = ss.pettingzoo_env_to_vec_env_v0(env) #convert to vec env\n",
    "env = ss.concat_vec_envs_v0(env, 10, num_cpus=10, base_class='stable_baselines3') #parallelize\n",
    "\n",
    "test_env = env"
   ]
  },
  {
   "cell_type": "code",
   "execution_count": 66,
   "metadata": {},
   "outputs": [
    {
     "name": "stdout",
     "output_type": "stream",
     "text": [
      "Using cpu device\n",
      "Wrapping the env in a VecTransposeImage.\n",
      "---------------------------------\n",
      "| time/              |          |\n",
      "|    fps             | 3260     |\n",
      "|    iterations      | 1        |\n",
      "|    time_elapsed    | 12       |\n",
      "|    total_timesteps | 40960    |\n",
      "| train/             |          |\n",
      "|    learning_rate   | 0.0003   |\n",
      "---------------------------------\n",
      "-----------------------------------------\n",
      "| time/                   |             |\n",
      "|    fps                  | 577         |\n",
      "|    iterations           | 2           |\n",
      "|    time_elapsed         | 141         |\n",
      "|    total_timesteps      | 81920       |\n",
      "| train/                  |             |\n",
      "|    approx_kl            | -0.12568662 |\n",
      "|    clip_fraction        | 0.433       |\n",
      "|    clip_range           | 0.2         |\n",
      "|    clip_range_vf        | 1           |\n",
      "|    entropy_loss         | -1.07       |\n",
      "|    explained_variance   | -2.43e-05   |\n",
      "|    learning_rate        | 0.0003      |\n",
      "|    loss                 | 55.4        |\n",
      "|    n_updates            | 10          |\n",
      "|    policy_gradient_loss | -0.0281     |\n",
      "|    value_loss           | 39.7        |\n",
      "-----------------------------------------\n",
      "-----------------------------------------\n",
      "| time/                   |             |\n",
      "|    fps                  | 452         |\n",
      "|    iterations           | 3           |\n",
      "|    time_elapsed         | 271         |\n",
      "|    total_timesteps      | 122880      |\n",
      "| train/                  |             |\n",
      "|    approx_kl            | -0.11819653 |\n",
      "|    clip_fraction        | 0.483       |\n",
      "|    clip_range           | 0.2         |\n",
      "|    clip_range_vf        | 1           |\n",
      "|    entropy_loss         | -1.01       |\n",
      "|    explained_variance   | 0.00145     |\n",
      "|    learning_rate        | 0.0003      |\n",
      "|    loss                 | 18.5        |\n",
      "|    n_updates            | 20          |\n",
      "|    policy_gradient_loss | -0.0189     |\n",
      "|    value_loss           | 39.4        |\n",
      "-----------------------------------------\n",
      "-----------------------------------------\n",
      "| time/                   |             |\n",
      "|    fps                  | 409         |\n",
      "|    iterations           | 4           |\n",
      "|    time_elapsed         | 400         |\n",
      "|    total_timesteps      | 163840      |\n",
      "| train/                  |             |\n",
      "|    approx_kl            | -0.08878968 |\n",
      "|    clip_fraction        | 0.419       |\n",
      "|    clip_range           | 0.2         |\n",
      "|    clip_range_vf        | 1           |\n",
      "|    entropy_loss         | -0.941      |\n",
      "|    explained_variance   | 0.00668     |\n",
      "|    learning_rate        | 0.0003      |\n",
      "|    loss                 | 37.5        |\n",
      "|    n_updates            | 30          |\n",
      "|    policy_gradient_loss | -0.0105     |\n",
      "|    value_loss           | 36.8        |\n",
      "-----------------------------------------\n",
      "------------------------------------------\n",
      "| time/                   |              |\n",
      "|    fps                  | 386          |\n",
      "|    iterations           | 5            |\n",
      "|    time_elapsed         | 530          |\n",
      "|    total_timesteps      | 204800       |\n",
      "| train/                  |              |\n",
      "|    approx_kl            | -0.031885438 |\n",
      "|    clip_fraction        | 0.369        |\n",
      "|    clip_range           | 0.2          |\n",
      "|    clip_range_vf        | 1            |\n",
      "|    entropy_loss         | -0.876       |\n",
      "|    explained_variance   | 0.01         |\n",
      "|    learning_rate        | 0.0003       |\n",
      "|    loss                 | 36.9         |\n",
      "|    n_updates            | 40           |\n",
      "|    policy_gradient_loss | -0.00967     |\n",
      "|    value_loss           | 31.9         |\n",
      "------------------------------------------\n"
     ]
    }
   ],
   "source": [
    "#model = PPO(CnnPolicy, env, verbose=3, gamma=0.99, n_steps=125, ent_coef=0.01, learning_rate=0.00025, vf_coef=0.5, max_grad_norm=0.5, gae_lambda=0.95, n_epochs=4, clip_range=0.2, clip_range_vf=1)\n",
    "model = PPO(CnnPolicy, env,  learning_rate=0.0003, n_steps=2048, batch_size=64, n_epochs=10, gamma=0.99, gae_lambda=0.95, clip_range=0.2,\n",
    "            clip_range_vf=1, ent_coef=0.0, vf_coef=0.5, max_grad_norm=0.5, use_sde=False, sde_sample_freq=- 1, target_kl=None, \n",
    "            tensorboard_log=None, create_eval_env=True, policy_kwargs=None, verbose=3, seed=314, device='auto', _init_setup_model=True)\n",
    "\n",
    "model.learn(total_timesteps = (2000*100))\n",
    "model.save(\"policy\")"
   ]
  },
  {
   "cell_type": "code",
   "execution_count": 74,
   "metadata": {},
   "outputs": [],
   "source": [
    "#set up test env\n",
    "env1 = cooperative_pong_v2.parallel_env(ball_speed=9, left_paddle_speed=12, right_paddle_speed=12, cake_paddle=False, max_cycles=2000, bounce_randomness=False) #create env\n",
    "agents= ['paddle_0', 'paddle_1'] #name agents\n",
    "env1 = ss.color_reduction_v0(env1, mode='B') #convert to grayscale for less computation\n",
    "env1 = ss.resize_v0(env1, x_size=84, y_size=84) #resive\n",
    "env1 = ss.frame_stack_v1(env1, 4)#stack 4 frames together to see velocity/direction\n",
    "env1 = ss.pettingzoo_env_to_vec_env_v0(env1) #convert to vec env\n",
    "env1 = ss.concat_vec_envs_v0(env1, 1, num_cpus=1, base_class='stable_baselines3') #parallelize, only 1 env"
   ]
  },
  {
   "cell_type": "code",
   "execution_count": 75,
   "metadata": {},
   "outputs": [
    {
     "name": "stdout",
     "output_type": "stream",
     "text": [
      "Wrapping the env in a VecTransposeImage.\n"
     ]
    }
   ],
   "source": [
    "model1 = PPO.load(\"policy\", env=env1)"
   ]
  },
  {
   "cell_type": "code",
   "execution_count": 76,
   "metadata": {},
   "outputs": [],
   "source": [
    "\n",
    "def evaluate(model, num_episodes=100):\n",
    "    \"\"\"\n",
    "    Evaluate a RL agent\n",
    "    :param model: (BaseRLModel object) the RL Agent\n",
    "    :param num_episodes: (int) number of episodes to evaluate it\n",
    "    :return: (float) Mean reward for the last num_episodes\n",
    "    \"\"\"\n",
    "    # This function will only work for a single Environment\n",
    "    env = model.get_env()\n",
    "    all_episode_rewards = []\n",
    "    for i in range(num_episodes):\n",
    "        episode_rewards = []\n",
    "        done = False\n",
    "        obs = env.reset()\n",
    "        #while not done:\n",
    "        # _states are only useful when using LSTM policies\n",
    "        action, _states = model.predict(obs)\n",
    "        # here, action, rewards and dones are arrays\n",
    "        # because we are using vectorized env\n",
    "        obs, reward, done, info = env.step(action)\n",
    "        episode_rewards.append(reward)\n",
    "\n",
    "        all_episode_rewards.append(sum(episode_rewards))\n",
    "\n",
    "    mean_episode_reward = np.mean(all_episode_rewards)\n",
    "    print(\"Mean reward:\", mean_episode_reward, \"Num episodes:\", num_episodes)\n",
    "\n",
    "    return mean_episode_reward"
   ]
  },
  {
   "cell_type": "code",
   "execution_count": 77,
   "metadata": {},
   "outputs": [
    {
     "name": "stdout",
     "output_type": "stream",
     "text": [
      "Mean reward: 0.025000002 Num episodes: 1000\n"
     ]
    },
    {
     "data": {
      "text/plain": [
       "0.025000002"
      ]
     },
     "execution_count": 77,
     "metadata": {},
     "output_type": "execute_result"
    }
   ],
   "source": [
    "evaluate(model, num_episodes=1000)"
   ]
  },
  {
   "cell_type": "code",
   "execution_count": null,
   "metadata": {},
   "outputs": [],
   "source": []
  }
 ],
 "metadata": {
  "kernelspec": {
   "name": "python388jvsc74a57bd069a2f651df10a18218a13c1e702c53cd659cdba2e4dc54aacb2305de0db1f708",
   "display_name": "Python 3.8.8 64-bit (conda)"
  },
  "language_info": {
   "codemirror_mode": {
    "name": "ipython",
    "version": 3
   },
   "file_extension": ".py",
   "mimetype": "text/x-python",
   "name": "python",
   "nbconvert_exporter": "python",
   "pygments_lexer": "ipython3",
   "version": "3.8.8-final"
  }
 },
 "nbformat": 4,
 "nbformat_minor": 4
}